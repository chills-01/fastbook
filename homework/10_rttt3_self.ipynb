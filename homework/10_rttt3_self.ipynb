{
 "cells": [
  {
   "cell_type": "markdown",
   "id": "fccd833f-c56f-4606-8f0b-d4e3ff625f05",
   "metadata": {},
   "source": [
    "### Note\n",
    "Not worth rewriting + running this notebook, as it focusses on ensembling a large amount of models. Instead, consult the [kaggle notebook](https://www.kaggle.com/code/jhoward/scaling-up-road-to-the-top-part-3)."
   ]
  },
  {
   "cell_type": "code",
   "execution_count": null,
   "id": "8c0eacb5-4e51-4d41-8ab0-0dfaab614062",
   "metadata": {},
   "outputs": [],
   "source": []
  }
 ],
 "metadata": {
  "kernelspec": {
   "display_name": "Python 3 (ipykernel)",
   "language": "python",
   "name": "python3"
  },
  "language_info": {
   "codemirror_mode": {
    "name": "ipython",
    "version": 3
   },
   "file_extension": ".py",
   "mimetype": "text/x-python",
   "name": "python",
   "nbconvert_exporter": "python",
   "pygments_lexer": "ipython3",
   "version": "3.12.2"
  }
 },
 "nbformat": 4,
 "nbformat_minor": 5
}
